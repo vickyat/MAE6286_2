{
 "cells": [
  {
   "cell_type": "code",
   "execution_count": 2,
   "metadata": {
    "collapsed": false
   },
   "outputs": [],
   "source": [
    "import numpy\n",
    "from matplotlib import pyplot\n",
    "%matplotlib inline\n",
    "from matplotlib import rcParams\n",
    "rcParams['font.family']='serif'\n",
    "rcParams['font.size']=16"
   ]
  },
  {
   "cell_type": "code",
   "execution_count": 3,
   "metadata": {
    "collapsed": false
   },
   "outputs": [
    {
     "name": "stderr",
     "output_type": "stream",
     "text": [
      "/home/gil/anaconda3/lib/python3.4/site-packages/ipykernel/__main__.py:8: DeprecationWarning: using a non-integer number instead of an integer will result in an error in the future\n"
     ]
    }
   ],
   "source": [
    "L = 1.\n",
    "nt = 100\n",
    "nx = 51.\n",
    "alpha = 1.22e-3\n",
    "q=0\n",
    "dx = L/(nx-1)\n",
    "qdx = q*dx\n",
    "Ti = numpy.zeros(nx)\n",
    "Ti[0] = 100"
   ]
  },
  {
   "cell_type": "code",
   "execution_count": 4,
   "metadata": {
    "collapsed": true
   },
   "outputs": [],
   "source": [
    "from scipy.linalg import solve"
   ]
  },
  {
   "cell_type": "code",
   "execution_count": 5,
   "metadata": {
    "collapsed": true
   },
   "outputs": [],
   "source": [
    "def generateMatrix(N, sigma):\n",
    "    d = numpy.diag(numpy.ones(N-2)*(2+1./sigma))\n",
    "    d[-1,-1] = 1+ 1./sigma\n",
    "    ud = numpy.diag(numpy.ones(N-3)*-1,1)\n",
    "    ld = numpy.diag(numpy.ones(N-3)*-1,-1)\n",
    "    \n",
    "    A = d+ud+ld\n",
    "    return A"
   ]
  },
  {
   "cell_type": "code",
   "execution_count": 6,
   "metadata": {
    "collapsed": true
   },
   "outputs": [],
   "source": [
    "def generateRHS(T, sigma, qdx):\n",
    "    b = numpy.zeros_like(T)\n",
    "    b = T[1:-1]*1./sigma\n",
    "    b[0] += T[0]\n",
    "    b[-2] += qdx\n",
    "    return b"
   ]
  },
  {
   "cell_type": "code",
   "execution_count": 9,
   "metadata": {
    "collapsed": false
   },
   "outputs": [],
   "source": [
    "def implicit_ftcs(T, A, nt, sigma, qdx):\n",
    "    for t in range(nt):\n",
    "        Tn = T.copy()\n",
    "        b = generateRHS(Tn, sigma, qdx)\n",
    "        T_interior = solve(A,b)\n",
    "        T[1:-1] = T_interior\n",
    "        T[-1] = T[-2] +qdx\n",
    "    return T"
   ]
  },
  {
   "cell_type": "code",
   "execution_count": 10,
   "metadata": {
    "collapsed": true
   },
   "outputs": [],
   "source": [
    "sigma = 0.5\n",
    "dt = sigma*dx*dx/alpha\n",
    "nt = 1000\n",
    "A = generateMatrix(nx,sigma)"
   ]
  },
  {
   "cell_type": "code",
   "execution_count": 15,
   "metadata": {
    "collapsed": false
   },
   "outputs": [
    {
     "name": "stdout",
     "output_type": "stream",
     "text": [
      "[[ 4. -1.  0. ...,  0.  0.  0.]\n",
      " [-1.  4. -1. ...,  0.  0.  0.]\n",
      " [ 0. -1.  4. ...,  0.  0.  0.]\n",
      " ..., \n",
      " [ 0.  0.  0. ...,  4. -1.  0.]\n",
      " [ 0.  0.  0. ..., -1.  4. -1.]\n",
      " [ 0.  0.  0. ...,  0. -1.  3.]]\n"
     ]
    }
   ],
   "source": [
    "print (A)"
   ]
  },
  {
   "cell_type": "code",
   "execution_count": 16,
   "metadata": {
    "collapsed": true
   },
   "outputs": [],
   "source": [
    "T = implicit_ftcs(Ti.copy(),A,nt,sigma,qdx)"
   ]
  },
  {
   "cell_type": "code",
   "execution_count": 17,
   "metadata": {
    "collapsed": false
   },
   "outputs": [
    {
     "data": {
      "text/plain": [
       "[<matplotlib.lines.Line2D at 0x7fee6815bf60>]"
      ]
     },
     "execution_count": 17,
     "metadata": {},
     "output_type": "execute_result"
    },
    {
     "data": {
      "image/png": "[encoded data removed]",
      "text/plain": [
       "<matplotlib.figure.Figure at 0x7fee6958cba8>"
      ]
     },
     "metadata": {},
     "output_type": "display_data"
    }
   ],
   "source": [
    "pyplot.plot(numpy.linspace(0,1,nx),T,color='#784598', ls='-', lw=3)"
   ]
  },
  {
   "cell_type": "code",
   "execution_count": 18,
   "metadata": {
    "collapsed": false
   },
   "outputs": [
    {
     "data": {
      "text/plain": [
       "[<matplotlib.lines.Line2D at 0x7fee5efa73c8>]"
      ]
     },
     "execution_count": 18,
     "metadata": {},
     "output_type": "execute_result"
    },
    {
     "data": {
      "image/png": "[encoded data removed]",
      "text/plain": [
       "<matplotlib.figure.Figure at 0x7fee67df80f0>"
      ]
     },
     "metadata": {},
     "output_type": "display_data"
    }
   ],
   "source": [
    "sigma = 5.0\n",
    "A = generateMatrix(nx, sigma)\n",
    "T = implicit_ftcs(T.copy(), A, nt, sigma, qdx)\n",
    "pyplot.plot(numpy.linspace(0,1,nx), T, ls = '-', lw=3)"
   ]
  },
  {
   "cell_type": "code",
   "execution_count": null,
   "metadata": {
    "collapsed": true
   },
   "outputs": [],
   "source": []
  }
 ],
 "metadata": {
  "kernelspec": {
   "display_name": "Python 3",
   "language": "python",
   "name": "python3"
  },
  "language_info": {
   "codemirror_mode": {
    "name": "ipython",
    "version": 3
   },
   "file_extension": ".py",
   "mimetype": "text/x-python",
   "name": "python",
   "nbconvert_exporter": "python",
   "pygments_lexer": "ipython3",
   "version": "3.4.3"
  }
 },
 "nbformat": 4,
 "nbformat_minor": 0
}

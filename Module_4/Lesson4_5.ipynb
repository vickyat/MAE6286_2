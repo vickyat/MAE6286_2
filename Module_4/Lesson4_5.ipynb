{
 "cells": [
  {
   "cell_type": "code",
   "execution_count": 1,
   "metadata": {
    "collapsed": true
   },
   "outputs": [],
   "source": [
    "import numpy\n",
    "from scipy.linalg import solve"
   ]
  },
  {
   "cell_type": "code",
   "execution_count": 7,
   "metadata": {
    "collapsed": true
   },
   "outputs": [],
   "source": [
    "def generateMatrix(N,sigma):\n",
    "    \n",
    "    d = 2*numpy.diag(numpy.ones(N-2)*(1+1./sigma))\n",
    "    \n",
    "    d[-1,-1] = 1+2./sigma\n",
    "    \n",
    "    ud = numpy.diag(numpy.ones(N-3)*-1,1)\n",
    "    \n",
    "    ld = numpy.diag(numpy.ones(N-3)*-1,-1)\n",
    "    A = d+ud+ld\n",
    "    return A"
   ]
  },
  {
   "cell_type": "code",
   "execution_count": 8,
   "metadata": {
    "collapsed": true
   },
   "outputs": [],
   "source": [
    "def generateRHS(T,sigma):\n",
    "    b = T[1:-1]*2*(1./sigma-1)+T[:-2]+T[2:]\n",
    "    b[0]+= T[0]\n",
    "    return b"
   ]
  },
  {
   "cell_type": "code",
   "execution_count": 9,
   "metadata": {
    "collapsed": true
   },
   "outputs": [],
   "source": [
    "def CrankNicolson(T,A,nt,sigma):\n",
    "    \n",
    "    for t in range(nt):\n",
    "        Tn = T.copy()\n",
    "        b = generateRHS(Tn,sigma)\n",
    "        T_interior = solve(A,b)\n",
    "        T[1:-1]=T_interior\n",
    "        T[-1]=T[-2]\n",
    "    return T"
   ]
  },
  {
   "cell_type": "code",
   "execution_count": 10,
   "metadata": {
    "collapsed": true
   },
   "outputs": [],
   "source": [
    "L = 1\n",
    "nx = 21\n",
    "alpha= 1.22e-3\n",
    "dx = L/(nx-1)\n",
    "Ti = numpy.zeros(nx)\n",
    "Ti[0]=100\n",
    "sigma= 0.5\n",
    "dt = sigma*dx*dx/alpha\n",
    "nt = 10\n",
    "A = generateMatrix(nx,sigma)"
   ]
  },
  {
   "cell_type": "code",
   "execution_count": 11,
   "metadata": {
    "collapsed": false
   },
   "outputs": [
    {
     "name": "stdout",
     "output_type": "stream",
     "text": [
      "[[ 6. -1.  0.  0.  0.  0.  0.  0.  0.  0.  0.  0.  0.  0.  0.  0.  0.  0.\n",
      "   0.]\n",
      " [-1.  6. -1.  0.  0.  0.  0.  0.  0.  0.  0.  0.  0.  0.  0.  0.  0.  0.\n",
      "   0.]\n",
      " [ 0. -1.  6. -1.  0.  0.  0.  0.  0.  0.  0.  0.  0.  0.  0.  0.  0.  0.\n",
      "   0.]\n",
      " [ 0.  0. -1.  6. -1.  0.  0.  0.  0.  0.  0.  0.  0.  0.  0.  0.  0.  0.\n",
      "   0.]\n",
      " [ 0.  0.  0. -1.  6. -1.  0.  0.  0.  0.  0.  0.  0.  0.  0.  0.  0.  0.\n",
      "   0.]\n",
      " [ 0.  0.  0.  0. -1.  6. -1.  0.  0.  0.  0.  0.  0.  0.  0.  0.  0.  0.\n",
      "   0.]\n",
      " [ 0.  0.  0.  0.  0. -1.  6. -1.  0.  0.  0.  0.  0.  0.  0.  0.  0.  0.\n",
      "   0.]\n",
      " [ 0.  0.  0.  0.  0.  0. -1.  6. -1.  0.  0.  0.  0.  0.  0.  0.  0.  0.\n",
      "   0.]\n",
      " [ 0.  0.  0.  0.  0.  0.  0. -1.  6. -1.  0.  0.  0.  0.  0.  0.  0.  0.\n",
      "   0.]\n",
      " [ 0.  0.  0.  0.  0.  0.  0.  0. -1.  6. -1.  0.  0.  0.  0.  0.  0.  0.\n",
      "   0.]\n",
      " [ 0.  0.  0.  0.  0.  0.  0.  0.  0. -1.  6. -1.  0.  0.  0.  0.  0.  0.\n",
      "   0.]\n",
      " [ 0.  0.  0.  0.  0.  0.  0.  0.  0.  0. -1.  6. -1.  0.  0.  0.  0.  0.\n",
      "   0.]\n",
      " [ 0.  0.  0.  0.  0.  0.  0.  0.  0.  0.  0. -1.  6. -1.  0.  0.  0.  0.\n",
      "   0.]\n",
      " [ 0.  0.  0.  0.  0.  0.  0.  0.  0.  0.  0.  0. -1.  6. -1.  0.  0.  0.\n",
      "   0.]\n",
      " [ 0.  0.  0.  0.  0.  0.  0.  0.  0.  0.  0.  0.  0. -1.  6. -1.  0.  0.\n",
      "   0.]\n",
      " [ 0.  0.  0.  0.  0.  0.  0.  0.  0.  0.  0.  0.  0.  0. -1.  6. -1.  0.\n",
      "   0.]\n",
      " [ 0.  0.  0.  0.  0.  0.  0.  0.  0.  0.  0.  0.  0.  0.  0. -1.  6. -1.\n",
      "   0.]\n",
      " [ 0.  0.  0.  0.  0.  0.  0.  0.  0.  0.  0.  0.  0.  0.  0.  0. -1.  6.\n",
      "  -1.]\n",
      " [ 0.  0.  0.  0.  0.  0.  0.  0.  0.  0.  0.  0.  0.  0.  0.  0.  0. -1.\n",
      "   5.]]\n"
     ]
    }
   ],
   "source": [
    "print(A)"
   ]
  },
  {
   "cell_type": "code",
   "execution_count": 12,
   "metadata": {
    "collapsed": true
   },
   "outputs": [],
   "source": [
    "T = CrankNicolson(Ti.copy(),A,nt,sigma)"
   ]
  },
  {
   "cell_type": "code",
   "execution_count": 13,
   "metadata": {
    "collapsed": true
   },
   "outputs": [],
   "source": [
    "from matplotlib import pyplot\n",
    "%matplotlib inline\n",
    "from matplotlib import rcParams\n",
    "rcParams['font.family']='serif'\n",
    "rcParams['font.size']=16"
   ]
  },
  {
   "cell_type": "code",
   "execution_count": 15,
   "metadata": {
    "collapsed": false
   },
   "outputs": [
    {
     "data": {
      "image/png": "[encoded data removed]",
      "text/plain": [
       "<matplotlib.figure.Figure at 0x7fbd7c5f8d68>"
      ]
     },
     "metadata": {},
     "output_type": "display_data"
    }
   ],
   "source": [
    "x= numpy.linspace(0,L,nx)\n",
    "pyplot.plot(x,T,color='#838495', ls = '-', lw =3);"
   ]
  },
  {
   "cell_type": "code",
   "execution_count": 18,
   "metadata": {
    "collapsed": true
   },
   "outputs": [],
   "source": [
    "from math import pi\n",
    "def T_analytical(x,t,n_max,alpha,L):\n",
    "    T = 100\n",
    "    for n in range(1,n_max+1):\n",
    "        k = (2*n-1)*pi/(2*L)\n",
    "        summation = 400/((2*n-1)*pi)*numpy.sin(k*x)*numpy.exp(-alpha*k*k*t)\n",
    "        T-=summation\n",
    "    return T"
   ]
  },
  {
   "cell_type": "code",
   "execution_count": 19,
   "metadata": {
    "collapsed": false
   },
   "outputs": [
    {
     "data": {
      "image/png": "[encoded data removed]",
      "text/plain": [
       "<matplotlib.figure.Figure at 0x7fbd7cc4f048>"
      ]
     },
     "metadata": {},
     "output_type": "display_data"
    }
   ],
   "source": [
    "T_exact = T_analytical(x,dt*nt,100,alpha,L)\n",
    "pyplot.plot(x,T_exact, color='#945045', ls= '-', lw =3);"
   ]
  },
  {
   "cell_type": "code",
   "execution_count": 20,
   "metadata": {
    "collapsed": false
   },
   "outputs": [
    {
     "data": {
      "text/plain": [
       "6.9279171182600926e-13"
      ]
     },
     "execution_count": 20,
     "metadata": {},
     "output_type": "execute_result"
    }
   ],
   "source": [
    "T1 = T_analytical(x,.2,100,alpha,L)\n",
    "T2 = T_analytical(x,.2,200,alpha,L)\n",
    "numpy.sqrt(numpy.sum((T1-T2)**2)/numpy.sum(T2**2))"
   ]
  },
  {
   "cell_type": "code",
   "execution_count": 21,
   "metadata": {
    "collapsed": true
   },
   "outputs": [],
   "source": [
    "def L2_error(T,T_exact):\n",
    "    e = numpy.sqrt(numpy.sum((T-T_exact)**2)/numpy.sum(T_exact)**2)\n",
    "    return e"
   ]
  },
  {
   "cell_type": "code",
   "execution_count": 22,
   "metadata": {
    "collapsed": true
   },
   "outputs": [],
   "source": [
    "def generateMatrix_btcs(N,sigma):\n",
    "    d = numpy.diag(numpy.ones(N-2)*(2+1./sigma))\n",
    "    d[-1,-1] = 1+1./sigma\n",
    "    ud = numpy.diag(numpy.ones(N-3)*-1,1)\n",
    "    ld = numpy.diag(numpy.ones(N-3)*-1,-1)\n",
    "    A = d+ud+ld\n",
    "    return A"
   ]
  },
  {
   "cell_type": "code",
   "execution_count": 23,
   "metadata": {
    "collapsed": true
   },
   "outputs": [],
   "source": [
    "def generateRHS_btcs(T,sigma):\n",
    "    b = numpy.zeros_like(T)\n",
    "    b = T[1:-1]*1./sigma\n",
    "    b[0] +=T[0]\n",
    "    return b"
   ]
  },
  {
   "cell_type": "code",
   "execution_count": 24,
   "metadata": {
    "collapsed": true
   },
   "outputs": [],
   "source": [
    "def implicit_btcs(T,A,dt,sigma):\n",
    "    for t in range(nt):\n",
    "        Tn = T.copy()\n",
    "        b = generateRHS_btcs(Tn,sigma)\n",
    "        T_interior = solve (A,b)\n",
    "        T[1:-1] = T_interior\n",
    "        T[-1] = T[-2]\n",
    "    return T"
   ]
  },
  {
   "cell_type": "code",
   "execution_count": 25,
   "metadata": {
    "collapsed": true
   },
   "outputs": [],
   "source": [
    "nx = 1001\n",
    "dx = L/(nx-1)\n",
    "dt_values=numpy.asarray([1.0, 0.5, 0.25, 0.125])\n",
    "error = numpy.zeros(len(dt_values))\n",
    "error_ftcs= numpy.zeros(len(dt_values))\n",
    "t_final=10\n",
    "t_initial = 1\n",
    "x = numpy.linspace(0,L,nx)\n",
    "Ti = T_analytical(x,t_initial, 100,alpha,L)\n",
    "T_exact = T_analytical(x,t_final, 100, alpha,L)\n",
    "\n",
    "for i, dt in enumerate(dt_values):\n",
    "    sigma = alpha*dt/dx**2\n",
    "    nt = int((t_final-t_initial)/dt)\n",
    "    A = generateMatrix(nx,sigma)\n",
    "    A_btcs = generateMatrix_btcs(nx,sigma)\n",
    "    T = CrankNicolson(Ti.copy(),A,nt,sigma)\n",
    "    error[i] = L2_error(T,T_exact)\n",
    "    T = implicit_btcs(Ti.copy(),A_btcs, nt,sigma)\n",
    "    error_ftcs[i] = L2_error(T,T_exact)"
   ]
  },
  {
   "cell_type": "code",
   "execution_count": 26,
   "metadata": {
    "collapsed": false
   },
   "outputs": [
    {
     "data": {
      "image/png": "[encoded data removed]",
      "text/plain": [
       "<matplotlib.figure.Figure at 0x7fbd7cc4fb38>"
      ]
     },
     "metadata": {},
     "output_type": "display_data"
    }
   ],
   "source": [
    "pyplot.figure(figsize=(8,8))\n",
    "pyplot.grid(True)\n",
    "pyplot.xlabel(r'$Delta t$', fontsize=18)\n",
    "pyplot.ylabel(r'$L_2$-norm of the error', fontsize=18)\n",
    "pyplot.axis('equal')\n",
    "pyplot.loglog(dt_values,error,color='k', ls='--', lw=2, marker='o')\n",
    "pyplot.loglog(dt_values,error_ftcs,color='k', ls='--', lw=2, marker='s')\n",
    "pyplot.legend(['crank-nic', 'ftcs']);"
   ]
  },
  {
   "cell_type": "code",
   "execution_count": 27,
   "metadata": {
    "collapsed": false
   },
   "outputs": [
    {
     "data": {
      "text/plain": [
       "array([  3.81125927e-05,   9.41813943e-06,   2.25089054e-06,\n",
       "         4.63970974e-07])"
      ]
     },
     "execution_count": 27,
     "metadata": {},
     "output_type": "execute_result"
    }
   ],
   "source": [
    "error"
   ]
  },
  {
   "cell_type": "code",
   "execution_count": 28,
   "metadata": {
    "collapsed": true
   },
   "outputs": [],
   "source": [
    "nx_values=numpy.asarray([11,21,41,81,161])\n",
    "dt = 0.1\n",
    "error=numpy.zeros(len(nx_values))\n",
    "t_final=20\n",
    "x= numpy.linspace(0,L,nx)\n",
    "for i, nx in enumerate(nx_values):\n",
    "    dx = L/(nx-1)\n",
    "    x = numpy.linspace(0,L,nx)\n",
    "    sigma = alpha*dt/dx**2\n",
    "    nt = int(t_final/dt)\n",
    "    A = generateMatrix(nx,sigma)\n",
    "    Ti = numpy.zeros(nx)\n",
    "    Ti[0] = 100\n",
    "    T = CrankNicolson(Ti.copy(), A,nt,sigma)\n",
    "    T_exact = T_analytical(x,t_final,100,alpha,L)\n",
    "    error[i]= L2_error(T,T_exact)"
   ]
  },
  {
   "cell_type": "code",
   "execution_count": 30,
   "metadata": {
    "collapsed": false
   },
   "outputs": [
    {
     "data": {
      "image/png": "[encoded data removed]",
      "text/plain": [
       "<matplotlib.figure.Figure at 0x7fbd7a2d6d30>"
      ]
     },
     "metadata": {},
     "output_type": "display_data"
    }
   ],
   "source": [
    "pyplot.figure(figsize=(8,8))\n",
    "pyplot.grid(True)\n",
    "pyplot.xlabel(r'$n_x$', fontsize=18)\n",
    "pyplot.ylabel(r'$L_2$-norm of the error', fontsize=18)\n",
    "pyplot.axis('equal')\n",
    "pyplot.loglog(nx_values,error,color='#908789', ls = '--', lw = 2, marker='o');"
   ]
  },
  {
   "cell_type": "code",
   "execution_count": 31,
   "metadata": {
    "collapsed": true
   },
   "outputs": [],
   "source": [
    "nx_values=numpy.asarray([11,21,41,81,161])\n",
    "dt = 0.1\n",
    "error=numpy.zeros(len(nx_values))\n",
    "t_final=1000\n",
    "x= numpy.linspace(0,L,nx)\n",
    "for i, nx in enumerate(nx_values):\n",
    "    dx = L/(nx-1)\n",
    "    x = numpy.linspace(0,L,nx)\n",
    "    sigma = alpha*dt/dx**2\n",
    "    nt = int(t_final/dt)\n",
    "    A = generateMatrix(nx,sigma)\n",
    "    Ti = numpy.zeros(nx)\n",
    "    Ti[0] = 100\n",
    "    T = CrankNicolson(Ti.copy(), A,nt,sigma)\n",
    "    T_exact = T_analytical(x,t_final,100,alpha,L)\n",
    "    error[i]= L2_error(T,T_exact)"
   ]
  },
  {
   "cell_type": "code",
   "execution_count": 33,
   "metadata": {
    "collapsed": false,
    "scrolled": false
   },
   "outputs": [
    {
     "data": {
      "image/png": "[encoded data removed]",
      "text/plain": [
       "<matplotlib.figure.Figure at 0x7fbd7a2f3668>"
      ]
     },
     "metadata": {},
     "output_type": "display_data"
    }
   ],
   "source": [
    "pyplot.figure(figsize=(8,8))\n",
    "pyplot.grid(True)\n",
    "pyplot.xlabel(r'$n_x$', fontsize=18)\n",
    "pyplot.ylabel(r'$L_2$-norm of the error', fontsize=18)\n",
    "\n",
    "pyplot.loglog(nx_values,error,color='#908789', ls = '--', lw = 2, marker='o');"
   ]
  },
  {
   "cell_type": "code",
   "execution_count": 34,
   "metadata": {
    "collapsed": false
   },
   "outputs": [
    {
     "data": {
      "text/plain": [
       "array([  3.59569224e-03,   1.34923182e-03,   4.90905474e-04,\n",
       "         1.76021088e-04,   6.26681531e-05])"
      ]
     },
     "execution_count": 34,
     "metadata": {},
     "output_type": "execute_result"
    }
   ],
   "source": [
    "error"
   ]
  },
  {
   "cell_type": "code",
   "execution_count": null,
   "metadata": {
    "collapsed": true
   },
   "outputs": [],
   "source": []
  }
 ],
 "metadata": {
  "kernelspec": {
   "display_name": "Python 3",
   "language": "python",
   "name": "python3"
  },
  "language_info": {
   "codemirror_mode": {
    "name": "ipython",
    "version": 3
   },
   "file_extension": ".py",
   "mimetype": "text/x-python",
   "name": "python",
   "nbconvert_exporter": "python",
   "pygments_lexer": "ipython3",
   "version": "3.4.3"
  }
 },
 "nbformat": 4,
 "nbformat_minor": 0
}

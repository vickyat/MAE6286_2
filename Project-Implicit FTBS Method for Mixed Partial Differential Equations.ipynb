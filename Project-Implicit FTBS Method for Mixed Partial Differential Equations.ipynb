{
 "cells": [
  {
   "cell_type": "markdown",
   "metadata": {},
   "source": [
    "# Implicit FTBS Method to Solve PDE's with Mixed Differentials"
   ]
  },
  {
   "cell_type": "markdown",
   "metadata": {},
   "source": [
    "A mixed PDE looks like:"
   ]
  },
  {
   "cell_type": "markdown",
   "metadata": {},
   "source": [
    "$$\\frac{\\partial ^{2}}{\\partial t \\partial x}$$"
   ]
  },
  {
   "cell_type": "markdown",
   "metadata": {},
   "source": [
    "We will use the equation that describes the movement of a conveyor belt to demonstrate how to solve a PDE with mixed differentials:"
   ]
  },
  {
   "cell_type": "markdown",
   "metadata": {},
   "source": [
    "$$\\frac{\\partial ^{2 } u}{\\partial t^{2}}+2V\\frac{\\partial ^{2}u}{\\partial t\\partial x}+\\left ( V^{2} -c^{2}\\right )\\frac{\\partial ^{2}u}{\\partial x^{2}}=0$$"
   ]
  },
  {
   "cell_type": "markdown",
   "metadata": {},
   "source": [
    "# Discretization"
   ]
  },
  {
   "cell_type": "markdown",
   "metadata": {},
   "source": [
    "We can begin by discretizing the terms that we already know how to do"
   ]
  },
  {
   "cell_type": "markdown",
   "metadata": {},
   "source": [
    "show discret for d2u/dt2 and d2u/dx2\n",
    "$$\\frac {\\partial_{2}u}{\\partial t^{2}} = \\frac{u_{i}^{n+1}-u_{i}^{n}}{\\Delta t^{2}}$$\\n\n",
    "$$\\frac {\\partial_{2}u}{\\partial t^{2}} = \\frac{u_{i}^{n+1}-u_{i}^{n}}{\\Delta t^{2}}$$"
   ]
  },
  {
   "cell_type": "markdown",
   "metadata": {},
   "source": [
    "After FTBS discretization and following the steps outlined in lesson 4.2 by moving the knowns to RHS and unknows to LHS:"
   ]
  },
  {
   "cell_type": "markdown",
   "metadata": {},
   "source": [
    "\n",
    "$$u_{i}^{n+1}\\left ( \\frac{1}{\\Delta t^{2}}+\\frac{2V}{\\Delta t\\Delta x} \\right )-\\frac{2V}{\\Delta t\\Delta x}u_{i-1}^{n+1}=\\frac{u_{i}^{n}}{\\Delta t^{2}}-\\frac{2V}{\\Delta t\\Delta x}\\left ( -u_{i}^{n}+u_{i-1}^{n} \\right )+\\left ( V^{2}-c^{2} \\right )\\frac{u_{i}^{n}-u_{i-1}^{n}}{\\Delta x^{2}}$$"
   ]
  },
  {
   "cell_type": "markdown",
   "metadata": {},
   "source": [
    "Looks similar to what was done in previous lessons, but now there are only terms for the "
   ]
  }
 ],
 "metadata": {
  "kernelspec": {
   "display_name": "Python 3",
   "language": "python",
   "name": "python3"
  },
  "language_info": {
   "codemirror_mode": {
    "name": "ipython",
    "version": 3
   },
   "file_extension": ".py",
   "mimetype": "text/x-python",
   "name": "python",
   "nbconvert_exporter": "python",
   "pygments_lexer": "ipython3",
   "version": "3.4.3"
  }
 },
 "nbformat": 4,
 "nbformat_minor": 0
}

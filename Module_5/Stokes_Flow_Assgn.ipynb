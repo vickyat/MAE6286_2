{
 "cells": [
  {
   "cell_type": "code",
   "execution_count": 4,
   "metadata": {
    "collapsed": true
   },
   "outputs": [],
   "source": [
    "from matplotlib import pyplot, cm\n",
    "from math import pi\n",
    "import numpy\n",
    "%matplotlib inline\n",
    "from matplotlib import rcParams\n",
    "rcParams['font.family']='serif'\n",
    "rcParams['font.size']= 16"
   ]
  },
  {
   "cell_type": "code",
   "execution_count": 5,
   "metadata": {
    "collapsed": true
   },
   "outputs": [],
   "source": [
    "def L1norm(new,old):\n",
    "    norm = numpy.sum(numpy.abs(new-old))\n",
    "    return norm"
   ]
  },
  {
   "cell_type": "code",
   "execution_count": 46,
   "metadata": {
    "collapsed": true
   },
   "outputs": [],
   "source": [
    "def stream_2d(psi, w, dx, dy, l1_target):\n",
    "\n",
    "    l1_norm_psi = 1. \n",
    "    l1norm_w = 1.\n",
    "    iterations = 0\n",
    "    \n",
    "    while l1_norm_psi > l1_target or l1norm_w > l1_target:\n",
    "\n",
    "        psid = psi.copy()\n",
    "        wn = w.copy()\n",
    "\n",
    "        psi[1:-1,1:-1] = 1./(2*(dx**2 + dy**2)) * \\\n",
    "                        ((psid[1:-1,2:]+psid[1:-1,:-2])*dy**2 +\\\n",
    "                        (psid[2:,1:-1] + psid[:-2,1:-1])*dx**2 +\\\n",
    "                         w[1:-1,1:-1]*dx**2*dy**2)\n",
    "    \n",
    "        l1_norm_psi = L1norm(psid,psi)\n",
    "        \n",
    "        \n",
    "        \n",
    "        w[1:-1,1:-1] = .25 * (wn[1:-1,2:] + wn[1:-1, :-2] \\\n",
    "                              + wn[2:, 1:-1] + wn[:-2, 1:-1])\n",
    "        \n",
    "        #neumann BC for w\n",
    "        w[1:-1,0] = -(4*psi[1:-1,1] - 0.5*psi[1:-1,2])/dx**2    #left BC x=0\n",
    "        w[1:-1,-1] = -(4*psi[1:-1,-2] - 0.5*psi[1:-1,-3])/dx**2    #right BC x=l\n",
    "        w[0,1:-1] = -(4*psi[1,1:-1] - 0.5*psi[2,1:-1])/dy**2    #bottom BC y=0\n",
    "        w[-1,1:-1] = -(4*psi[-2,1:-1] - 0.5*psi[-3,1:-1])/dy**2 - 3*uj/dy    #top BC y=h\n",
    "        \n",
    "        \n",
    "        \n",
    "        l1norm_w = L1norm(wn,w)\n",
    "        iterations += 1\n",
    "        \n",
    "    \n",
    "    print('Number of Jacobi iterations: {0:d}'.format(iterations))\n",
    "    return psi, w"
   ]
  },
  {
   "cell_type": "code",
   "execution_count": 47,
   "metadata": {
    "collapsed": false
   },
   "outputs": [
    {
     "name": "stderr",
     "output_type": "stream",
     "text": [
      "/home/gil/anaconda3/lib/python3.4/site-packages/ipykernel/__main__.py:13: DeprecationWarning: using a non-integer number instead of an integer will result in an error in the future\n",
      "/home/gil/anaconda3/lib/python3.4/site-packages/ipykernel/__main__.py:14: DeprecationWarning: using a non-integer number instead of an integer will result in an error in the future\n"
     ]
    }
   ],
   "source": [
    "nx = 41.\n",
    "ny = 41.\n",
    "l = 1\n",
    "h = 1\n",
    "dx = l/(nx-1)\n",
    "dy = h/(ny-1)\n",
    "uj = 1.\n",
    "\n",
    "x = numpy.linspace(0,l,nx)\n",
    "y = numpy.linspace(0,h,ny)\n",
    "X,Y = numpy.meshgrid(x,y)\n",
    "\n",
    "psi_i = numpy.zeros((ny,nx))    #dir BC all =0\n",
    "w_i = numpy.zeros((ny,nx))\n",
    "\n",
    "l1_target = 1e-6"
   ]
  },
  {
   "cell_type": "code",
   "execution_count": 48,
   "metadata": {
    "collapsed": false
   },
   "outputs": [
    {
     "name": "stdout",
     "output_type": "stream",
     "text": [
      "Number of Jacobi iterations: 4060\n"
     ]
    }
   ],
   "source": [
    "psi, w = stream_2d(psi_i.copy(), w_i.copy(), dx, dy, l1_target)"
   ]
  },
  {
   "cell_type": "code",
   "execution_count": 52,
   "metadata": {
    "collapsed": false
   },
   "outputs": [
    {
     "data": {
      "image/png": "[encoded data removed]",
      "text/plain": [
       "<matplotlib.figure.Figure at 0x7fca774cd080>"
      ]
     },
     "metadata": {},
     "output_type": "display_data"
    }
   ],
   "source": [
    "pyplot.contourf(x,y,psi,20,cmap=cm.viridis)\n",
    "pyplot.colorbar();"
   ]
  },
  {
   "cell_type": "code",
   "execution_count": 51,
   "metadata": {
    "collapsed": false
   },
   "outputs": [
    {
     "data": {
      "text/plain": [
       "array([ 0.    , -0.0575, -0.0944, -0.0944, -0.0575,  0.    ])"
      ]
     },
     "execution_count": 51,
     "metadata": {},
     "output_type": "execute_result"
    }
   ],
   "source": [
    "numpy.round(psi[32,::8],4)"
   ]
  },
  {
   "cell_type": "code",
   "execution_count": 53,
   "metadata": {
    "collapsed": false
   },
   "outputs": [
    {
     "data": {
      "image/png": "[encoded data removed]",
      "text/plain": [
       "<matplotlib.figure.Figure at 0x7fca776326a0>"
      ]
     },
     "metadata": {},
     "output_type": "display_data"
    }
   ],
   "source": [
    "pyplot.contourf(x,y,w,20,cmap=cm.viridis)\n",
    "pyplot.colorbar();"
   ]
  },
  {
   "cell_type": "code",
   "execution_count": 77,
   "metadata": {
    "collapsed": false
   },
   "outputs": [
    {
     "data": {
      "text/plain": [
       "0.099845172462224338"
      ]
     },
     "execution_count": 77,
     "metadata": {},
     "output_type": "execute_result"
    }
   ],
   "source": [
    "numpy.amax(abs(psi))"
   ]
  },
  {
   "cell_type": "code",
   "execution_count": 78,
   "metadata": {
    "collapsed": false
   },
   "outputs": [
    {
     "data": {
      "text/plain": [
       "78.192661228600713"
      ]
     },
     "execution_count": 78,
     "metadata": {},
     "output_type": "execute_result"
    }
   ],
   "source": [
    "numpy.amax(abs(w))"
   ]
  },
  {
   "cell_type": "code",
   "execution_count": null,
   "metadata": {
    "collapsed": true
   },
   "outputs": [],
   "source": []
  }
 ],
 "metadata": {
  "kernelspec": {
   "display_name": "Python 3",
   "language": "python",
   "name": "python3"
  },
  "language_info": {
   "codemirror_mode": {
    "name": "ipython",
    "version": 3
   },
   "file_extension": ".py",
   "mimetype": "text/x-python",
   "name": "python",
   "nbconvert_exporter": "python",
   "pygments_lexer": "ipython3",
   "version": "3.4.3"
  }
 },
 "nbformat": 4,
 "nbformat_minor": 0
}

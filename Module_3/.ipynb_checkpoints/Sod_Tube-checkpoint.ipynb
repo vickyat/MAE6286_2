{
 "cells": [
  {
   "cell_type": "code",
   "execution_count": 1,
   "metadata": {
    "collapsed": true
   },
   "outputs": [],
   "source": [
    "import numpy\n",
    "from matplotlib import pyplot\n",
    "from matplotlib import rcParams\n",
    "%matplotlib inline\n",
    "rcParams['font.family']='serif'\n",
    "rcParams['font.size']= 16"
   ]
  },
  {
   "cell_type": "code",
   "execution_count": 2,
   "metadata": {
    "collapsed": false
   },
   "outputs": [],
   "source": [
    "#constants\n",
    "gamma = 1.4\n",
    "rho_L = 1    #[kg/m^3]\n",
    "v_L = 0    #[m/s]\n",
    "p_L = 100000    #[N/m^2]\n",
    "rho_R = 0.125    #[kg/m^2]\n",
    "v_R = 0     #[m/s]\n",
    "p_R = 10000    #[N/m^2]\n",
    "et_L = 0.5*v_L**2 + p_L/((gamma-1)*rho_L)\n",
    "et_R = 0.5*v_R**2 + p_R/((gamma-1)*rho_R)"
   ]
  },
  {
   "cell_type": "code",
   "execution_count": 3,
   "metadata": {
    "collapsed": true
   },
   "outputs": [],
   "source": [
    "def initu(nx):\n",
    "    u = numpy.zeros((3,nx))\n",
    "    u[0,:(nx/2)] = rho_L\n",
    "    u[1,:(nx/2)] = rho_L*v_L\n",
    "    u[2,:(nx/2)] = rho_L*et_L\n",
    "    u[0,(nx/2):] = rho_R\n",
    "    u[1,(nx/2):] = rho_R*v_L\n",
    "    u[2,(nx/2):] = rho_R*et_R\n",
    "    return u   "
   ]
  },
  {
   "cell_type": "code",
   "execution_count": 4,
   "metadata": {
    "collapsed": true
   },
   "outputs": [],
   "source": [
    "def computeF(u):\n",
    "    u1 = u[0,:]\n",
    "    u2 = u[1,:]\n",
    "    u3 = u[2,:]\n",
    "    return numpy.array([u2, u2**2/u1 +(gamma-1)*(u3-(1/2*u2**2/u1)), (u3+(gamma-1)*(u3 - (1/2*u2**2/u1)))*u2/u1])"
   ]
  },
  {
   "cell_type": "code",
   "execution_count": 41,
   "metadata": {
    "collapsed": true
   },
   "outputs": [],
   "source": [
    "def richtmeyer(u, nt, dt, dx):\n",
    "    u_n = numpy.zeros((nt,len(u),nx))\n",
    "    u_star = numpy.zeros_like(u)\n",
    "    u_n[:,:,:] = u.copy()\n",
    "    u_star[:,:] = u.copy()\n",
    "    \n",
    "    for t in range(1,nt):\n",
    "        F = computeF(u)\n",
    "        u_star[:,:-1] = 0.5*(u[:,1:]+u[:,:-1])- dt/(2*dx)*(F[:,1:]-F[:,:-1])\n",
    "        F_star = computeF(u_star)\n",
    "        u_n[t,:,1:-1] = u[:,1:-1] - dt/dx*(F_star[:,1:-1]-F_star[:,:-2])\n",
    "        \n",
    "        u = u_n[t,:,:].copy()\n",
    "    return u_n"
   ]
  },
  {
   "cell_type": "code",
   "execution_count": 42,
   "metadata": {
    "collapsed": false
   },
   "outputs": [],
   "source": [
    "t = 0.01\n",
    "nx = 81\n",
    "dx = 0.25\n",
    "dt = 0.0002\n",
    "x = numpy.linspace(-10,10,nx)\n",
    "sigma = 1\n",
    "nt = int(t/dt)+1"
   ]
  },
  {
   "cell_type": "code",
   "execution_count": 43,
   "metadata": {
    "collapsed": false,
    "scrolled": false
   },
   "outputs": [],
   "source": [
    "u =initu(nx)"
   ]
  },
  {
   "cell_type": "code",
   "execution_count": 44,
   "metadata": {
    "collapsed": false,
    "scrolled": true
   },
   "outputs": [
    {
     "data": {
      "text/plain": [
       "array([[      0.,       0.,       0.,       0.,       0.,       0.,\n",
       "              0.,       0.,       0.,       0.,       0.,       0.,\n",
       "              0.,       0.,       0.,       0.,       0.,       0.,\n",
       "              0.,       0.,       0.,       0.,       0.,       0.,\n",
       "              0.,       0.,       0.,       0.,       0.,       0.,\n",
       "              0.,       0.,       0.,       0.,       0.,       0.,\n",
       "              0.,       0.,       0.,       0.,       0.,       0.,\n",
       "              0.,       0.,       0.,       0.,       0.,       0.,\n",
       "              0.,       0.,       0.,       0.,       0.,       0.,\n",
       "              0.,       0.,       0.,       0.,       0.,       0.,\n",
       "              0.,       0.,       0.,       0.,       0.,       0.,\n",
       "              0.,       0.,       0.,       0.,       0.,       0.,\n",
       "              0.,       0.,       0.,       0.,       0.,       0.,\n",
       "              0.,       0.,       0.],\n",
       "       [ 100000.,  100000.,  100000.,  100000.,  100000.,  100000.,\n",
       "         100000.,  100000.,  100000.,  100000.,  100000.,  100000.,\n",
       "         100000.,  100000.,  100000.,  100000.,  100000.,  100000.,\n",
       "         100000.,  100000.,  100000.,  100000.,  100000.,  100000.,\n",
       "         100000.,  100000.,  100000.,  100000.,  100000.,  100000.,\n",
       "         100000.,  100000.,  100000.,  100000.,  100000.,  100000.,\n",
       "         100000.,  100000.,  100000.,  100000.,   10000.,   10000.,\n",
       "          10000.,   10000.,   10000.,   10000.,   10000.,   10000.,\n",
       "          10000.,   10000.,   10000.,   10000.,   10000.,   10000.,\n",
       "          10000.,   10000.,   10000.,   10000.,   10000.,   10000.,\n",
       "          10000.,   10000.,   10000.,   10000.,   10000.,   10000.,\n",
       "          10000.,   10000.,   10000.,   10000.,   10000.,   10000.,\n",
       "          10000.,   10000.,   10000.,   10000.,   10000.,   10000.,\n",
       "          10000.,   10000.,   10000.],\n",
       "       [      0.,       0.,       0.,       0.,       0.,       0.,\n",
       "              0.,       0.,       0.,       0.,       0.,       0.,\n",
       "              0.,       0.,       0.,       0.,       0.,       0.,\n",
       "              0.,       0.,       0.,       0.,       0.,       0.,\n",
       "              0.,       0.,       0.,       0.,       0.,       0.,\n",
       "              0.,       0.,       0.,       0.,       0.,       0.,\n",
       "              0.,       0.,       0.,       0.,       0.,       0.,\n",
       "              0.,       0.,       0.,       0.,       0.,       0.,\n",
       "              0.,       0.,       0.,       0.,       0.,       0.,\n",
       "              0.,       0.,       0.,       0.,       0.,       0.,\n",
       "              0.,       0.,       0.,       0.,       0.,       0.,\n",
       "              0.,       0.,       0.,       0.,       0.,       0.,\n",
       "              0.,       0.,       0.,       0.,       0.,       0.,\n",
       "              0.,       0.,       0.]])"
      ]
     },
     "execution_count": 44,
     "metadata": {},
     "output_type": "execute_result"
    }
   ],
   "source": [
    "computeF(u)"
   ]
  },
  {
   "cell_type": "code",
   "execution_count": 45,
   "metadata": {
    "collapsed": false
   },
   "outputs": [],
   "source": [
    "u_n=richtmeyer(u, nt, dt,dx)"
   ]
  },
  {
   "cell_type": "code",
   "execution_count": 47,
   "metadata": {
    "collapsed": false
   },
   "outputs": [
    {
     "data": {
      "text/plain": [
       "array([ 1.        ,  1.        ,  1.        ,  1.        ,  1.        ,\n",
       "        1.        ,  1.        ,  1.        ,  1.        ,  1.        ,\n",
       "        1.        ,  1.        ,  0.99999997,  0.99999986,  0.99999932,\n",
       "        0.99999694,  0.99998741,  0.9999526 ,  0.99983736,  0.99949289,\n",
       "        0.99856792,  0.99635019,  0.99162823,  0.98273521,  0.96792076,\n",
       "        0.94600154,  0.9168774 ,  0.88164814,  0.84208594,  0.80012107,\n",
       "        0.75730048,  0.71481491,  0.67277761,  0.63389053,  0.59052577,\n",
       "        0.56181242,  0.51598546,  0.48995123,  0.44887417,  0.44760904,\n",
       "        0.29696558,  0.36126796,  0.43359314,  0.42699377,  0.41099442,\n",
       "        0.41892596,  0.44399618,  0.46434585,  0.45696901,  0.42194861,\n",
       "        0.3746914 ,  0.3317037 ,  0.30204312,  0.28704464,  0.280923  ,\n",
       "        0.27230546,  0.25570383,  0.24516403,  0.26061836,  0.29707243,\n",
       "        0.30148605,  0.2238121 ,  0.14723687,  0.12725797,  0.1251773 ,\n",
       "        0.12501369,  0.12500107,  0.12500009,  0.12500001,  0.125     ,\n",
       "        0.125     ,  0.125     ,  0.125     ,  0.125     ,  0.125     ,\n",
       "        0.125     ,  0.125     ,  0.125     ,  0.125     ,  0.125     ,\n",
       "        0.125     ])"
      ]
     },
     "execution_count": 47,
     "metadata": {},
     "output_type": "execute_result"
    }
   ],
   "source": [
    "u_n[nt-1,0,:]"
   ]
  },
  {
   "cell_type": "code",
   "execution_count": 48,
   "metadata": {
    "collapsed": false
   },
   "outputs": [
    {
     "data": {
      "text/plain": [
       "[<matplotlib.lines.Line2D at 0x7f8c252f1828>]"
      ]
     },
     "execution_count": 48,
     "metadata": {},
     "output_type": "execute_result"
    },
    {
     "data": {
      "image/png": "[encoded data removed]",
      "text/plain": [
       "<matplotlib.figure.Figure at 0x7f8c253369b0>"
      ]
     },
     "metadata": {},
     "output_type": "display_data"
    }
   ],
   "source": [
    "pyplot.plot(x,u_n[nt-1,0,:])"
   ]
  },
  {
   "cell_type": "code",
   "execution_count": 57,
   "metadata": {
    "collapsed": false
   },
   "outputs": [
    {
     "data": {
      "text/plain": [
       "[<matplotlib.lines.Line2D at 0x7f8c252155c0>]"
      ]
     },
     "execution_count": 57,
     "metadata": {},
     "output_type": "execute_result"
    },
    {
     "data": {
      "image/png": "[encoded data removed]",
      "text/plain": [
       "<matplotlib.figure.Figure at 0x7f8c25284f98>"
      ]
     },
     "metadata": {},
     "output_type": "display_data"
    }
   ],
   "source": [
    "pyplot.plot(x,u_n[nt-1,1,:]/u_n[nt-1,0,:])"
   ]
  },
  {
   "cell_type": "code",
   "execution_count": 60,
   "metadata": {
    "collapsed": false
   },
   "outputs": [
    {
     "data": {
      "text/plain": [
       "[<matplotlib.lines.Line2D at 0x7f8c253e00f0>]"
      ]
     },
     "execution_count": 60,
     "metadata": {},
     "output_type": "execute_result"
    },
    {
     "data": {
      "image/png": "[encoded data removed]",
      "text/plain": [
       "<matplotlib.figure.Figure at 0x7f8c2526a9b0>"
      ]
     },
     "metadata": {},
     "output_type": "display_data"
    }
   ],
   "source": [
    "pyplot.plot(x,(gamma-1)*(u_n[nt-1,2,:] - 0.5*(u_n[nt-1,1,:])**2/u_n[nt-1,0,:]))"
   ]
  },
  {
   "cell_type": "code",
   "execution_count": 50,
   "metadata": {
    "collapsed": false
   },
   "outputs": [
    {
     "data": {
      "text/plain": [
       "(array([50]),)"
      ]
     },
     "execution_count": 50,
     "metadata": {},
     "output_type": "execute_result"
    }
   ],
   "source": [
    "numpy.where(x==2.5)"
   ]
  },
  {
   "cell_type": "code",
   "execution_count": 51,
   "metadata": {
    "collapsed": true
   },
   "outputs": [],
   "source": [
    "dens = u_n[nt-1,0,:]"
   ]
  },
  {
   "cell_type": "code",
   "execution_count": 52,
   "metadata": {
    "collapsed": false
   },
   "outputs": [
    {
     "data": {
      "text/plain": [
       "0.37469140264760109"
      ]
     },
     "execution_count": 52,
     "metadata": {},
     "output_type": "execute_result"
    }
   ],
   "source": [
    "dens[50]"
   ]
  },
  {
   "cell_type": "code",
   "execution_count": 53,
   "metadata": {
    "collapsed": true
   },
   "outputs": [],
   "source": [
    "vel = u_n[nt-1,1,:]/u_n[nt-1,0,:]"
   ]
  },
  {
   "cell_type": "code",
   "execution_count": 54,
   "metadata": {
    "collapsed": false
   },
   "outputs": [
    {
     "data": {
      "text/plain": [
       "292.61147152682679"
      ]
     },
     "execution_count": 54,
     "metadata": {},
     "output_type": "execute_result"
    }
   ],
   "source": [
    "vel[50]"
   ]
  },
  {
   "cell_type": "code",
   "execution_count": 58,
   "metadata": {
    "collapsed": true
   },
   "outputs": [],
   "source": [
    "pres=(gamma-1)*(u_n[nt-1,2,:] - 0.5*(u_n[nt-1,1,:])**2/u_n[nt-1,0,:])"
   ]
  },
  {
   "cell_type": "code",
   "execution_count": 59,
   "metadata": {
    "collapsed": false
   },
   "outputs": [
    {
     "data": {
      "text/plain": [
       "30250.890167572015"
      ]
     },
     "execution_count": 59,
     "metadata": {},
     "output_type": "execute_result"
    }
   ],
   "source": [
    "pres[50]"
   ]
  },
  {
   "cell_type": "code",
   "execution_count": null,
   "metadata": {
    "collapsed": true
   },
   "outputs": [],
   "source": []
  }
 ],
 "metadata": {
  "kernelspec": {
   "display_name": "Python 3",
   "language": "python",
   "name": "python3"
  },
  "language_info": {
   "codemirror_mode": {
    "name": "ipython",
    "version": 3
   },
   "file_extension": ".py",
   "mimetype": "text/x-python",
   "name": "python",
   "nbconvert_exporter": "python",
   "pygments_lexer": "ipython3",
   "version": "3.4.3"
  }
 },
 "nbformat": 4,
 "nbformat_minor": 0
}

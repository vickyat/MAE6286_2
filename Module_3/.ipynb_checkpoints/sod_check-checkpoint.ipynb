{
 "cells": [
  {
   "cell_type": "code",
   "execution_count": 16,
   "metadata": {
    "collapsed": true
   },
   "outputs": [],
   "source": [
    "import numpy\n",
    "from matplotlib import pyplot\n",
    "from matplotlib import rcParams\n",
    "%matplotlib inline\n",
    "rcParams['font.family']='serif'\n",
    "rcParams['font.size']= 16"
   ]
  },
  {
   "cell_type": "code",
   "execution_count": 17,
   "metadata": {
    "collapsed": true
   },
   "outputs": [],
   "source": [
    "#constants\n",
    "gamma = 1.4\n",
    "rho_L = 1    #[kg/m^3]\n",
    "v_L = 0    #[m/s]\n",
    "p_L = 100000    #[N/m^2]\n",
    "rho_R = 0.125    #[kg/m^2]\n",
    "v_R = 0     #[m/s]\n",
    "p_R = 10000    #[N/m^2]\n",
    "et_L = 0.5*v_L**2 + p_L/((gamma-1)*rho_L)\n",
    "et_R = 0.5*v_R**2 + p_R/((gamma-1)*rho_R)"
   ]
  },
  {
   "cell_type": "code",
   "execution_count": 18,
   "metadata": {
    "collapsed": true
   },
   "outputs": [],
   "source": [
    "def initu(nx):\n",
    "    u = numpy.zeros((3,nx))\n",
    "    u[0,:(nx/2)] = rho_L\n",
    "    u[1,:(nx/2)] = rho_L*v_L\n",
    "    u[2,:(nx/2)] = rho_L*et_L\n",
    "    u[0,(nx/2):] = rho_R\n",
    "    u[1,(nx/2):] = rho_R*v_L\n",
    "    u[2,(nx/2):] = rho_R*et_R\n",
    "    return u   "
   ]
  },
  {
   "cell_type": "code",
   "execution_count": 19,
   "metadata": {
    "collapsed": true
   },
   "outputs": [],
   "source": [
    "def computeF(u):\n",
    "    u1 = u[0,:]\n",
    "    u2 = u[1,:]\n",
    "    u3 = u[2,:]\n",
    "    return numpy.array([u2, u2**2/u1 +(gamma-1)*(u3-(1/2*u2**2/u1)), (u3+(gamma-1)*(u3 - (1/2*u2**2/u1)))*u2/u1])"
   ]
  },
  {
   "cell_type": "code",
   "execution_count": 42,
   "metadata": {
    "collapsed": true
   },
   "outputs": [],
   "source": [
    "def richtmeyer(u, nt, dt, dx):\n",
    "    u_n = numpy.zeros((nt,len(u),nx))\n",
    "    u_star = numpy.zeros_like(u)\n",
    "    u_n[:,:,:] = u.copy()\n",
    "    u_star[:,:] = u.copy()\n",
    "    \n",
    "    for t in range(1,nt):\n",
    "        F = computeF(u)\n",
    "        u_star[:,:-1] = 0.5*(u[:,1:]+u[:,:-1])- dt/(2*dx)*(F[:,1:]-F[:,:-1])\n",
    "        F_star = computeF(u_star)\n",
    "        u_n[t,:,1:-1] = u[:,1:-1] - dt/dx*(F_star[:,1:-1]-F_star[:,:-2])\n",
    "        \n",
    "        u = u_n[t,:,:].copy()\n",
    "    return u_n"
   ]
  },
  {
   "cell_type": "code",
   "execution_count": 43,
   "metadata": {
    "collapsed": true
   },
   "outputs": [],
   "source": [
    "t = 0.01\n",
    "nx = 81\n",
    "dx = 0.25\n",
    "dt = 0.0002\n",
    "x = numpy.linspace(-10,10,nx)\n",
    "sigma = 1\n",
    "nt = int(t/dt)+1\n",
    "u = initu(nx)"
   ]
  },
  {
   "cell_type": "code",
   "execution_count": null,
   "metadata": {
    "collapsed": true
   },
   "outputs": [],
   "source": []
  },
  {
   "cell_type": "code",
   "execution_count": 44,
   "metadata": {
    "collapsed": false
   },
   "outputs": [
    {
     "name": "stdout",
     "output_type": "stream",
     "text": [
      "[[[  1.00000000e+00   1.00000000e+00   1.00000000e+00 ...,   1.25000000e-01\n",
      "     1.25000000e-01   1.25000000e-01]\n",
      "  [  0.00000000e+00   0.00000000e+00   0.00000000e+00 ...,   0.00000000e+00\n",
      "     0.00000000e+00   0.00000000e+00]\n",
      "  [  2.50000000e+05   2.50000000e+05   2.50000000e+05 ...,   2.50000000e+04\n",
      "     2.50000000e+04   2.50000000e+04]]\n",
      "\n",
      " [[  1.00000000e+00   1.00000000e+00   1.00000000e+00 ...,   1.25000000e-01\n",
      "     1.25000000e-01   1.25000000e-01]\n",
      "  [  0.00000000e+00   0.00000000e+00   0.00000000e+00 ...,   0.00000000e+00\n",
      "     0.00000000e+00   0.00000000e+00]\n",
      "  [  2.50000000e+05   2.50000000e+05   2.50000000e+05 ...,   2.50000000e+04\n",
      "     2.50000000e+04   2.50000000e+04]]\n",
      "\n",
      " [[  1.00000000e+00   1.00000000e+00   1.00000000e+00 ...,   1.25000000e-01\n",
      "     1.25000000e-01   1.25000000e-01]\n",
      "  [  0.00000000e+00   0.00000000e+00   0.00000000e+00 ...,   0.00000000e+00\n",
      "     0.00000000e+00   0.00000000e+00]\n",
      "  [  2.50000000e+05   2.50000000e+05   2.50000000e+05 ...,   2.50000000e+04\n",
      "     2.50000000e+04   2.50000000e+04]]\n",
      "\n",
      " ..., \n",
      " [[  1.00000000e+00   1.00000000e+00   1.00000000e+00 ...,   1.25000000e-01\n",
      "     1.25000000e-01   1.25000000e-01]\n",
      "  [  0.00000000e+00   0.00000000e+00   0.00000000e+00 ...,   0.00000000e+00\n",
      "     0.00000000e+00   0.00000000e+00]\n",
      "  [  2.50000000e+05   2.50000000e+05   2.50000000e+05 ...,   2.50000000e+04\n",
      "     2.50000000e+04   2.50000000e+04]]\n",
      "\n",
      " [[  1.00000000e+00   1.00000000e+00   1.00000000e+00 ...,   1.25000000e-01\n",
      "     1.25000000e-01   1.25000000e-01]\n",
      "  [  0.00000000e+00   0.00000000e+00   0.00000000e+00 ...,   0.00000000e+00\n",
      "     0.00000000e+00   0.00000000e+00]\n",
      "  [  2.50000000e+05   2.50000000e+05   2.50000000e+05 ...,   2.50000000e+04\n",
      "     2.50000000e+04   2.50000000e+04]]\n",
      "\n",
      " [[  1.00000000e+00   1.00000000e+00   1.00000000e+00 ...,   1.25000000e-01\n",
      "     1.25000000e-01   1.25000000e-01]\n",
      "  [  0.00000000e+00   0.00000000e+00   0.00000000e+00 ...,   0.00000000e+00\n",
      "     0.00000000e+00   0.00000000e+00]\n",
      "  [  2.50000000e+05   2.50000000e+05   2.50000000e+05 ...,   2.50000000e+04\n",
      "     2.50000000e+04   2.50000000e+04]]]\n"
     ]
    }
   ],
   "source": [
    "u_n=richtmeyer(u,nt,dt,dx)\n",
    "print(u_n)"
   ]
  },
  {
   "cell_type": "code",
   "execution_count": 49,
   "metadata": {
    "collapsed": false
   },
   "outputs": [
    {
     "data": {
      "text/plain": [
       "[<matplotlib.lines.Line2D at 0x7fb2c3b52240>]"
      ]
     },
     "execution_count": 49,
     "metadata": {},
     "output_type": "execute_result"
    },
    {
     "data": {
      "image/png": "[encoded data removed]",
      "text/plain": [
       "<matplotlib.figure.Figure at 0x7fb2c3b81e10>"
      ]
     },
     "metadata": {},
     "output_type": "display_data"
    }
   ],
   "source": [
    "pyplot.plot(x,u_n[nt-1,0,:])"
   ]
  },
  {
   "cell_type": "code",
   "execution_count": null,
   "metadata": {
    "collapsed": true
   },
   "outputs": [],
   "source": []
  }
 ],
 "metadata": {
  "kernelspec": {
   "display_name": "Python 3",
   "language": "python",
   "name": "python3"
  },
  "language_info": {
   "codemirror_mode": {
    "name": "ipython",
    "version": 3
   },
   "file_extension": ".py",
   "mimetype": "text/x-python",
   "name": "python",
   "nbconvert_exporter": "python",
   "pygments_lexer": "ipython3",
   "version": "3.4.3"
  }
 },
 "nbformat": 4,
 "nbformat_minor": 0
}

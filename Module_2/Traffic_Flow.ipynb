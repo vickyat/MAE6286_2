{
 "cells": [
  {
   "cell_type": "code",
   "execution_count": 91,
   "metadata": {
    "collapsed": true
   },
   "outputs": [],
   "source": [
    "import numpy\n",
    "from matplotlib import pyplot\n",
    "%matplotlib inline\n",
    "from matplotlib import rcParams\n",
    "rcParams['font.family']='serif'\n",
    "rcParams['font.size']=16\n",
    "from sympy.utilities.lambdify import lambdify"
   ]
  },
  {
   "cell_type": "code",
   "execution_count": 133,
   "metadata": {
    "collapsed": false
   },
   "outputs": [
    {
     "name": "stdout",
     "output_type": "stream",
     "text": [
      "51\n"
     ]
    }
   ],
   "source": [
    "Vmax = 136  #*1000/60/60     #km/hr\n",
    "L = 11       #km\n",
    "rhomax = 250  #cars/km\n",
    "nx = 51             #number of unit steps\n",
    "t = 0.05   #hours\n",
    "\n",
    "dx = L/(nx-1)\n",
    "dt = 0.001    #hours\n",
    "nt = int(t/dt)+1    #number of time steps\n",
    "print(nt)"
   ]
  },
  {
   "cell_type": "code",
   "execution_count": 134,
   "metadata": {
    "collapsed": false
   },
   "outputs": [],
   "source": [
    "# Part A\n",
    "x = numpy.linspace(0,L,nx)\n",
    "rho0 = numpy.ones(nx)*20\n",
    "rho0[10:20] = 50\n",
    "rhon = numpy.ones(nx)"
   ]
  },
  {
   "cell_type": "code",
   "execution_count": 135,
   "metadata": {
    "collapsed": false,
    "scrolled": false
   },
   "outputs": [
    {
     "name": "stdout",
     "output_type": "stream",
     "text": [
      "[ 20.          20.          20.          20.          20.          20.          20.\n",
      "  20.          20.          20.          20.          20.          20.          20.\n",
      "  20.          20.00000001  20.00000013  20.00000096  20.00000608\n",
      "  20.00003363  20.0001647   20.00072178  20.00285608  20.01028498\n",
      "  20.03393981  20.10323738  20.29066638  20.75811024  21.82136156\n",
      "  23.96711785  27.63074173  32.63448806  37.90045765  42.1567808\n",
      "  44.80997305  45.96907449  46.01174878  45.2910616   44.05688641\n",
      "  42.47183346  40.64367292  38.64995284  36.55284547  34.40738099\n",
      "  32.26590382  30.18032467  28.20271479  26.38415826  24.77156668\n",
      "  23.40246781  22.2986815 ]\n"
     ]
    },
    {
     "data": {
      "image/png": "[encoded data removed]",
      "text/plain": [
       "<matplotlib.figure.Figure at 0x7f990c954eb8>"
      ]
     },
     "metadata": {},
     "output_type": "display_data"
    }
   ],
   "source": [
    "#vmin = 75\n",
    "for n in range(nt):\n",
    "    rhon = rho0.copy()\n",
    "           \n",
    "    rho0[0] = 20\n",
    "        \n",
    "    rho0[1:] = rhon[1:] - Vmax*dt/dx*(1-(2*rhon[1:]/rhomax))*(rhon[1:]-rhon[0:-1])\n",
    "    \n",
    "    #v[n] = Vmax*(1-rho0[n]/rhomax)\n",
    "    #print(v)\n",
    "    #if vmin>v[n]:\n",
    "        #vmin = v[n]\n",
    "print(rho0)      \n",
    "#print(vmin*1000/60/60)\n",
    "pyplot.plot(x,rho0)\n",
    "#pyplot.xlim(0, 12);"
   ]
  },
  {
   "cell_type": "code",
   "execution_count": 136,
   "metadata": {
    "collapsed": false
   },
   "outputs": [
    {
     "name": "stdout",
     "output_type": "stream",
     "text": [
      "46.0117487784\n"
     ]
    }
   ],
   "source": [
    "rhom =numpy.amax(rho0)\n",
    "print(rhom)"
   ]
  },
  {
   "cell_type": "code",
   "execution_count": 137,
   "metadata": {
    "collapsed": false
   },
   "outputs": [
    {
     "name": "stdout",
     "output_type": "stream",
     "text": [
      "30.8248912957\n"
     ]
    }
   ],
   "source": [
    "vmin = Vmax*(1-rhom/rhomax)*1000/60/60\n",
    "print(vmin)"
   ]
  },
  {
   "cell_type": "code",
   "execution_count": 138,
   "metadata": {
    "collapsed": false
   },
   "outputs": [
    {
     "name": "stdout",
     "output_type": "stream",
     "text": [
      "26.5427689674\n"
     ]
    }
   ],
   "source": [
    "rhoavg = numpy.average(rho0)\n",
    "print (rhoavg)"
   ]
  },
  {
   "cell_type": "code",
   "execution_count": 139,
   "metadata": {
    "collapsed": false
   },
   "outputs": [
    {
     "name": "stdout",
     "output_type": "stream",
     "text": [
      "33.7668704671\n"
     ]
    }
   ],
   "source": [
    "vavg = Vmax*(1-rhoavg/rhomax)*1000/60/60\n",
    "print(vavg)"
   ]
  },
  {
   "cell_type": "code",
   "execution_count": null,
   "metadata": {
    "collapsed": true
   },
   "outputs": [],
   "source": []
  }
 ],
 "metadata": {
  "kernelspec": {
   "display_name": "Python 3",
   "language": "python",
   "name": "python3"
  },
  "language_info": {
   "codemirror_mode": {
    "name": "ipython",
    "version": 3
   },
   "file_extension": ".py",
   "mimetype": "text/x-python",
   "name": "python",
   "nbconvert_exporter": "python",
   "pygments_lexer": "ipython3",
   "version": "3.4.3"
  }
 },
 "nbformat": 4,
 "nbformat_minor": 0
}

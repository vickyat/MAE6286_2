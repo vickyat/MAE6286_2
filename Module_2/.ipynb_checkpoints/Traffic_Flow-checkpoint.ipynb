{
 "cells": [
  {
   "cell_type": "code",
   "execution_count": 3,
   "metadata": {
    "collapsed": true
   },
   "outputs": [],
   "source": [
    "import numpy\n",
    "from matplotlib import pyplot\n",
    "%matplotlib inline\n",
    "from matplotlib import rcParams\n",
    "rcParams['font.family']='serif'\n",
    "rcParams['font.size']=16\n",
    "from sympy.utilities.lambdify import lambdify"
   ]
  },
  {
   "cell_type": "code",
   "execution_count": 16,
   "metadata": {
    "collapsed": false
   },
   "outputs": [
    {
     "ename": "SyntaxError",
     "evalue": "invalid syntax (<string>, line 1)",
     "output_type": "error",
     "traceback": [
      "\u001b[1;36m  File \u001b[1;32m\"<string>\"\u001b[1;36m, line \u001b[1;32m1\u001b[0m\n\u001b[1;33m    lambda _0,_1: (lambda 0,0.0,0.22,0.44,0.66,0.88,1.1,1.32,1.54,1.76,1.98,2.2,2.42,2.64,2.86,3.08,3.3,3.52,3.74,3.96,4.18,4.4,4.62,4.84,5.06,5.28,5.5,5.72,5.94,6.16,6.38,6.6,6.82,7.04,7.26,7.48,7.7,7.92,8.14,8.36,8.58,8.8,9.02,9.24,9.46,9.68,9.9,10.12,10.34,10.56,10.78,11.0: ([  0.     0.22   0.44   0.66   0.88   1.1    1.32   1.54   1.76   1.98\u001b[0m\n\u001b[1;37m                          ^\u001b[0m\n\u001b[1;31mSyntaxError\u001b[0m\u001b[1;31m:\u001b[0m invalid syntax\n"
     ]
    }
   ],
   "source": [
    "Vmax = 80     #km/hr\n",
    "L = 11        #km\n",
    "rhomax = 250  #cars/km\n",
    "nx = 51\n",
    "nt = 50\n",
    "dx = 2./(nx-1)\n",
    "dt = 0.001    #hours\n",
    "x = numpy.linspace(0,L,nx)\n",
    "rhon = numpy.empty(nx)\n",
    "t = 0\n",
    "\n",
    "rho = numpy.empty(nx)\n",
    "\n",
    "#Part A\n",
    "#rho = numpy.ones(nx)*10\n",
    "#rho[10:20] = 50\n",
    "#rhon[0] = 10\n",
    "rho_lamb = lambdify((t,x),rho)\n",
    "rho_blah = numpy.asarray([rho_lamb(t,x0) for x0 in x])\n",
    "rho_blah\n",
    "vmin = 0\n",
    "#for n in range(nt):\n",
    "    #rhon = rho.copy()\n",
    "    \n",
    "    #rho[1:] = rhon[1:] + Vmax*dt/dx*((rhon[1:]*(1-(rhon[1:]/rhomax)))\\\n",
    "            #-(rhon[0:-1]*(1-(rhon[0:-1]/rhomax))))\n",
    "    \n",
    "    #rho[0] = 10\n",
    "    \n",
    "    #rho_blah = numpy.asarray([rho_lamb(t,x0) for x0 in x])\n",
    "                              \n",
    "    #if vmin<v:\n",
    "        #vmin = Vmax*(1-rho[n]/rhomax)\n",
    "#print(vmin)\n",
    "\n"
   ]
  },
  {
   "cell_type": "code",
   "execution_count": null,
   "metadata": {
    "collapsed": true
   },
   "outputs": [],
   "source": []
  }
 ],
 "metadata": {
  "kernelspec": {
   "display_name": "Python 3",
   "language": "python",
   "name": "python3"
  },
  "language_info": {
   "codemirror_mode": {
    "name": "ipython",
    "version": 3
   },
   "file_extension": ".py",
   "mimetype": "text/x-python",
   "name": "python",
   "nbconvert_exporter": "python",
   "pygments_lexer": "ipython3",
   "version": "3.4.3"
  }
 },
 "nbformat": 4,
 "nbformat_minor": 0
}

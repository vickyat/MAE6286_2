{
 "cells": [
  {
   "cell_type": "code",
   "execution_count": 91,
   "metadata": {
    "collapsed": true
   },
   "outputs": [],
   "source": [
    "import numpy\n",
    "from matplotlib import pyplot\n",
    "%matplotlib inline\n",
    "from matplotlib import rcParams\n",
    "rcParams['font.family']='serif'\n",
    "rcParams['font.size']=16\n",
    "from sympy.utilities.lambdify import lambdify"
   ]
  },
  {
   "cell_type": "code",
   "execution_count": 142,
   "metadata": {
    "collapsed": true
   },
   "outputs": [],
   "source": [
    "Vmax = 80  #*1000/60/60     #km/hr\n",
    "L = 11       #km\n",
    "rhomax = 250  #cars/km\n",
    "nx = 51\n",
    "nt = 50\n",
    "dx = 2./(nx-1)\n",
    "dt = 0.001    #hours"
   ]
  },
  {
   "cell_type": "code",
   "execution_count": 143,
   "metadata": {
    "collapsed": false
   },
   "outputs": [],
   "source": [
    "# Part A\n",
    "x = numpy.linspace(0,L,nx)\n",
    "rho0 = numpy.ones(nx)*10\n",
    "rho0[10:20] = 50\n",
    "#print(rho0)\n",
    "t = 100\n",
    "rhon = numpy.ones(nx)\n",
    "#pyplot.plot(x,rho0)\n",
    "#pyplot.ylim(0,60);"
   ]
  },
  {
   "cell_type": "code",
   "execution_count": 144,
   "metadata": {
    "collapsed": false,
    "scrolled": true
   },
   "outputs": [
    {
     "name": "stderr",
     "output_type": "stream",
     "text": [
      "/home/gil/anaconda3/lib/python3.4/site-packages/IPython/kernel/__main__.py:8: RuntimeWarning: overflow encountered in multiply\n",
      "/home/gil/anaconda3/lib/python3.4/site-packages/IPython/kernel/__main__.py:8: RuntimeWarning: invalid value encountered in subtract\n"
     ]
    },
    {
     "data": {
      "image/png": "[encoded data removed]",
      "text/plain": [
       "<matplotlib.figure.Figure at 0x7fcb775c40f0>"
      ]
     },
     "metadata": {},
     "output_type": "display_data"
    }
   ],
   "source": [
    "vmin = 75\n",
    "for n in range(nt):\n",
    "    rhon = rho0.copy()\n",
    "    v = numpy.empty(nx)\n",
    "    \n",
    "    rho0[0] = 10\n",
    "    \n",
    "    rho0[1:] = rhon[1:] + Vmax*dt/dx*((rhon[1:]*(1-(rhon[1:]/rhomax)))\\\n",
    "            -(rhon[0:-1]*(1-(rhon[0:-1]/rhomax))))\n",
    "    \n",
    "    #rho1 = numpy.asarray([rho_lamb(nt*dt,xi) for xi in x])\n",
    "    \n",
    "    v[n] = Vmax*(1-rho0[n]/rhomax)\n",
    "    #print(v)\n",
    "    if vmin>v[n]:\n",
    "        vmin = v[n]\n",
    "#print(rho0)      \n",
    "#print(vmin*1000/60/60)\n",
    "pyplot.plot(x,rho0)\n",
    "pyplot.xlim(0, 12);"
   ]
  },
  {
   "cell_type": "code",
   "execution_count": 80,
   "metadata": {
    "collapsed": false
   },
   "outputs": [
    {
     "ename": "NameError",
     "evalue": "name 'rho_lamb' is not defined",
     "output_type": "error",
     "traceback": [
      "\u001b[1;31m---------------------------------------------------------------------------\u001b[0m",
      "\u001b[1;31mNameError\u001b[0m                                 Traceback (most recent call last)",
      "\u001b[1;32m<ipython-input-80-2d32a8492e92>\u001b[0m in \u001b[0;36m<module>\u001b[1;34m()\u001b[0m\n\u001b[0;32m      3\u001b[0m \u001b[0mt\u001b[0m \u001b[1;33m=\u001b[0m \u001b[1;36m0\u001b[0m\u001b[1;33m\u001b[0m\u001b[0m\n\u001b[0;32m      4\u001b[0m \u001b[0mrhon\u001b[0m \u001b[1;33m=\u001b[0m \u001b[0mnumpy\u001b[0m\u001b[1;33m.\u001b[0m\u001b[0mempty\u001b[0m\u001b[1;33m(\u001b[0m\u001b[0mnx\u001b[0m\u001b[1;33m)\u001b[0m\u001b[1;33m\u001b[0m\u001b[0m\n\u001b[1;32m----> 5\u001b[1;33m \u001b[0mrho\u001b[0m \u001b[1;33m=\u001b[0m \u001b[0mnumpy\u001b[0m\u001b[1;33m.\u001b[0m\u001b[0masarray\u001b[0m\u001b[1;33m(\u001b[0m\u001b[1;33m[\u001b[0m\u001b[0mrho_lamb\u001b[0m\u001b[1;33m(\u001b[0m\u001b[0mt\u001b[0m\u001b[1;33m,\u001b[0m\u001b[0mx0\u001b[0m\u001b[1;33m)\u001b[0m \u001b[1;32mfor\u001b[0m \u001b[0mx0\u001b[0m \u001b[1;32min\u001b[0m \u001b[0mx\u001b[0m\u001b[1;33m]\u001b[0m\u001b[1;33m)\u001b[0m\u001b[1;33m\u001b[0m\u001b[0m\n\u001b[0m",
      "\u001b[1;32m<ipython-input-80-2d32a8492e92>\u001b[0m in \u001b[0;36m<listcomp>\u001b[1;34m(.0)\u001b[0m\n\u001b[0;32m      3\u001b[0m \u001b[0mt\u001b[0m \u001b[1;33m=\u001b[0m \u001b[1;36m0\u001b[0m\u001b[1;33m\u001b[0m\u001b[0m\n\u001b[0;32m      4\u001b[0m \u001b[0mrhon\u001b[0m \u001b[1;33m=\u001b[0m \u001b[0mnumpy\u001b[0m\u001b[1;33m.\u001b[0m\u001b[0mempty\u001b[0m\u001b[1;33m(\u001b[0m\u001b[0mnx\u001b[0m\u001b[1;33m)\u001b[0m\u001b[1;33m\u001b[0m\u001b[0m\n\u001b[1;32m----> 5\u001b[1;33m \u001b[0mrho\u001b[0m \u001b[1;33m=\u001b[0m \u001b[0mnumpy\u001b[0m\u001b[1;33m.\u001b[0m\u001b[0masarray\u001b[0m\u001b[1;33m(\u001b[0m\u001b[1;33m[\u001b[0m\u001b[0mrho_lamb\u001b[0m\u001b[1;33m(\u001b[0m\u001b[0mt\u001b[0m\u001b[1;33m,\u001b[0m\u001b[0mx0\u001b[0m\u001b[1;33m)\u001b[0m \u001b[1;32mfor\u001b[0m \u001b[0mx0\u001b[0m \u001b[1;32min\u001b[0m \u001b[0mx\u001b[0m\u001b[1;33m]\u001b[0m\u001b[1;33m)\u001b[0m\u001b[1;33m\u001b[0m\u001b[0m\n\u001b[0m",
      "\u001b[1;31mNameError\u001b[0m: name 'rho_lamb' is not defined"
     ]
    }
   ],
   "source": [
    "#ICs\n",
    "x = numpy.linspace(0,L,nx)\n",
    "t = 0\n",
    "rhon = numpy.empty(nx)\n",
    "rho = numpy.asarray([rho_lamb(t,x0) for x0 in x])"
   ]
  },
  {
   "cell_type": "code",
   "execution_count": 19,
   "metadata": {
    "collapsed": false
   },
   "outputs": [
    {
     "ename": "SyntaxError",
     "evalue": "invalid syntax (<string>, line 1)",
     "output_type": "error",
     "traceback": [
      "\u001b[1;36m  File \u001b[1;32m\"<string>\"\u001b[1;36m, line \u001b[1;32m1\u001b[0m\n\u001b[1;33m    lambda _0,_1: (lambda 0,0.0,0.22,0.44,0.66,0.88,1.1,1.32,1.54,1.76,1.98,2.2,2.42,2.64,2.86,3.08,3.3,3.52,3.74,3.96,4.18,4.4,4.62,4.84,5.06,5.28,5.5,5.72,5.94,6.16,6.38,6.6,6.82,7.04,7.26,7.48,7.7,7.92,8.14,8.36,8.58,8.8,9.02,9.24,9.46,9.68,9.9,10.12,10.34,10.56,10.78,11.0: ([  0.     0.22   0.44   0.66   0.88   1.1    1.32   1.54   1.76   1.98\u001b[0m\n\u001b[1;37m                          ^\u001b[0m\n\u001b[1;31mSyntaxError\u001b[0m\u001b[1;31m:\u001b[0m invalid syntax\n"
     ]
    }
   ],
   "source": [
    "rho = numpy.empty(nx)\n",
    "\n",
    "#Part A\n",
    "#rho = numpy.ones(nx)*10\n",
    "#rho[10:20] = 50\n",
    "#rhon[0] = 10\n",
    "rho_lamb = lambdify((t,x),rho)\n",
    "rho_blah = numpy.asarray([rho_lamb(t,x0) for x0 in x])\n",
    "rho_blah\n",
    "vmin = 0\n",
    "#for n in range(nt):\n",
    "    #rhon = rho.copy()\n",
    "    \n",
    "    #rho[1:] = rhon[1:] + Vmax*dt/dx*((rhon[1:]*(1-(rhon[1:]/rhomax)))\\\n",
    "            #-(rhon[0:-1]*(1-(rhon[0:-1]/rhomax))))\n",
    "    \n",
    "    #rho[0] = 10\n",
    "    \n",
    "    #rho_blah = numpy.asarray([rho_lamb(t,x0) for x0 in x])\n",
    "                              \n",
    "    #if vmin<v:\n",
    "        #vmin = Vmax*(1-rho[n]/rhomax)\n",
    "#print(vmin)\n",
    "\n"
   ]
  },
  {
   "cell_type": "code",
   "execution_count": 27,
   "metadata": {
    "collapsed": false
   },
   "outputs": [
    {
     "ename": "SyntaxError",
     "evalue": "invalid syntax (<string>, line 1)",
     "output_type": "error",
     "traceback": [
      "\u001b[1;36m  File \u001b[1;32m\"<string>\"\u001b[1;36m, line \u001b[1;32m1\u001b[0m\n\u001b[1;33m    lambda _0,_1: (lambda 0,0.0,0.22,0.44,0.66,0.88,1.1,1.32,1.54,1.76,1.98,2.2,2.42,2.64,2.86,3.08,3.3,3.52,3.74,3.96,4.18,4.4,4.62,4.84,5.06,5.28,5.5,5.72,5.94,6.16,6.38,6.6,6.82,7.04,7.26,7.48,7.7,7.92,8.14,8.36,8.58,8.8,9.02,9.24,9.46,9.68,9.9,10.12,10.34,10.56,10.78,11.0: ([  0.     0.22   0.44   0.66   0.88   1.1    1.32   1.54   1.76   1.98\u001b[0m\n\u001b[1;37m                          ^\u001b[0m\n\u001b[1;31mSyntaxError\u001b[0m\u001b[1;31m:\u001b[0m invalid syntax\n"
     ]
    }
   ],
   "source": [
    "x,t = sympy.symbols('x t')\n",
    "rho = \n",
    "rho_lamb = lambdify((t,x),rho)"
   ]
  },
  {
   "cell_type": "code",
   "execution_count": null,
   "metadata": {
    "collapsed": true
   },
   "outputs": [],
   "source": []
  }
 ],
 "metadata": {
  "kernelspec": {
   "display_name": "Python 3",
   "language": "python",
   "name": "python3"
  },
  "language_info": {
   "codemirror_mode": {
    "name": "ipython",
    "version": 3
   },
   "file_extension": ".py",
   "mimetype": "text/x-python",
   "name": "python",
   "nbconvert_exporter": "python",
   "pygments_lexer": "ipython3",
   "version": "3.4.3"
  }
 },
 "nbformat": 4,
 "nbformat_minor": 0
}
